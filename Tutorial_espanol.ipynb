{
 "cells": [
  {
   "cell_type": "markdown",
   "metadata": {},
   "source": [
    "# Análisis de Microbiomas en R\n",
    "\n",
    "Este tutorial ofrece una visión integral de las principales funciones de la librería [microeco](https://github.com/ChiLiubio/microeco). Este paquete de R está diseñado para asistir al usuario en el análisis de datos de microbiomas utilizando un rango amplio de metodologías que facilitan la experiencia del análisis.  \n",
    "\n",
    "A lo largo del tutorial, aprenderá a cargar datos en R, manipularlos y normalizarlos, calcular abundancias relativas, realizar análisis descriptivos basados en dichas abundancias, llevar a cabo análisis de diversidad (índices alfa y beta) y representar los resultados de forma gráfica."
   ]
  },
  {
   "cell_type": "markdown",
   "metadata": {},
   "source": [
    "## 1. Instalación de paquetes \n",
    "\n",
    "Antes de proceder con la instalación, es importante señalar que, al igual que muchas otras librerías de R, **microeco** es un paquete que se compone por diversas dependencias. Estas dependencias no son más que otras librerías de R que deben instalarse previamente para poder utilizar microeco de una forma adecuada.\n",
    "\n",
    "El comando `install.packages(\"BiocManager\")` en R se utiliza para instalar el paquete [BiocManager](https://www.bioconductor.org/install/) desde CRAN. Este paquete es una herramienta esencial para trabajar con paquetes del proyecto [Bioconductor](https://www.bioconductor.org/), que proporciona herramientas bioinformáticas para el análisis y comprensión de datos biológicos. Bioconductor es un repositorio especializado en herramientas bioinformáticas y estadísticas diseñadas para el análisis de datos genómicos, transcriptómicos, proteómicos, y más."
   ]
  },
  {
   "cell_type": "code",
   "execution_count": null,
   "metadata": {},
   "outputs": [],
   "source": [
    "# Instalar BiocManager\n",
    "\n",
    "install.packages(\"BiocManager\")"
   ]
  },
  {
   "cell_type": "code",
   "execution_count": null,
   "metadata": {},
   "outputs": [],
   "source": [
    "# Instalar paquetes con BiocManager\n",
    "\n",
    "BiocManager::install(\"ggtree\")\n",
    "BiocManager::install(\"metagenomeSeq\")\n",
    "BiocManager::install(\"ALDEx2\")\n",
    "BiocManager::install(\"ANCOMBC\")\n",
    "install.packages(\"file2meco\", repos = BiocManager::repositories())\n",
    "install.packages(\"MicrobiomeStat\", repos = BiocManager::repositories())\n",
    "install.packages(\"WGCNA\", repos = BiocManager::repositories())\n",
    "install.packages(\"remotes\")\n",
    "install.packages(\"devtools\")"
   ]
  },
  {
   "cell_type": "code",
   "execution_count": null,
   "metadata": {},
   "outputs": [],
   "source": [
    "# Instalar paquetes\n",
    "\n",
    "install.packages(\"file2meco\", repos = BiocManager::repositories())\n",
    "install.packages(\"MicrobiomeStat\", repos = BiocManager::repositories())\n",
    "install.packages(\"WGCNA\", repos = BiocManager::repositories())\n",
    "install.packages(\"remotes\")\n",
    "install.packages(\"devtools\")\n",
    "remotes::install_github(\"jbisanz/qiime2R\")"
   ]
  },
  {
   "cell_type": "markdown",
   "metadata": {},
   "source": [
    "> **Nota:** Es común que las librerías de R sufran actualizaciones constantemente, por lo tanto, a la hora accesar esta guía podrían existir cambios que no estén contemplados en la misma. Se recomienda visitar la siguiente página en caso de que ocurra algún inconveniente https://chiliubio.github.io/microeco_tutorial/ así como https://github.com/ChiLiubio/microeco para la instalación de la librería.\n",
    "\n",
    "Finalmente se realiza la instalación del paquete *microeco*"
   ]
  },
  {
   "cell_type": "code",
   "execution_count": null,
   "metadata": {},
   "outputs": [],
   "source": [
    "# Instalar microeco paquetes directamente desde un repositorio de GitHub\n",
    "\n",
    "devtools::install_github(\"ChiLiubio/microeco\")"
   ]
  },
  {
   "cell_type": "markdown",
   "metadata": {},
   "source": [
    "Una vez descargados los paquetes o librerías, iniciaremos las librerías utilizando la función `library()`"
   ]
  },
  {
   "cell_type": "code",
   "execution_count": null,
   "metadata": {},
   "outputs": [],
   "source": [
    "# Cargar librerías\n",
    "\n",
    "library(microeco)\n",
    "library(qiime2R)\n",
    "library(ggplot2)\n",
    "library(magrittr)\n",
    "library(RColorBrewer)\n",
    "library(ggalluvial)"
   ]
  },
  {
   "cell_type": "markdown",
   "metadata": {},
   "source": [
    "## 2. Descargar datos"
   ]
  },
  {
   "cell_type": "markdown",
   "metadata": {},
   "source": [
    "Los datos utilizados en este tutorial se encuentra en un repositorio en Zenodo: https://zenodo.org/records/13972776.\n",
    "\n",
    "Para descargarlos, utilizaremos la función de R `download.file()`"
   ]
  },
  {
   "cell_type": "code",
   "execution_count": null,
   "metadata": {},
   "outputs": [],
   "source": [
    "urls <- c(\n",
    "  \"https://zenodo.org/records/13972776/files/classification.qza\",\n",
    "  \"https://zenodo.org/records/13972776/files/sample-metadata.tsv\",\n",
    "  \"https://zenodo.org/records/13972776/files/table.qza\",\n",
    "  \"https://zenodo.org/records/13972776/files/rooted_tree.qza\"\n",
    ")\n",
    "\n",
    "# Nombrar archivos\n",
    "destfiles <- c(\"classification.qza\", \"sample-metadata.tsv\", \"table.qza\", \"rooted_tree.qza\")\n",
    "\n",
    "# Descargar los archivos\n",
    "for (i in seq_along(urls)) {\n",
    "  download.file(url = urls[i], destfile = destfiles[i], mode = \"wb\")\n",
    "  cat(sprintf(\"Archivo %s descargado correctamente.\\n\", destfiles[i]))\n",
    "}"
   ]
  },
  {
   "cell_type": "markdown",
   "metadata": {},
   "source": [
    "Obtendrá el siguiente resultado:\n",
    "\n",
    "![descarga](./Images/descarga.png)"
   ]
  },
  {
   "cell_type": "markdown",
   "metadata": {},
   "source": [
    "## 3. Cargar datos"
   ]
  },
  {
   "cell_type": "markdown",
   "metadata": {},
   "source": [
    "Para cargar los datos, utilizaremos una librería implementada en R para utilizar los archivos producidos por el programa [QIIME2](https://qiime2.org/). Esta librería lleva el nombre de **qiime2R** y ya fue descargada y cargada en los pasos previos. \n",
    "\n",
    "Seguidamente se debe utilizar la función `setwd()` para seleccionar el directorio donde se encuentran los archivos de datos, los cuales están disponibles en la carpeta del tutorial."
   ]
  },
  {
   "cell_type": "code",
   "execution_count": null,
   "metadata": {},
   "outputs": [],
   "source": [
    "# Seleccionar el directorio\n",
    "\n",
    "setwd(\"/content\")"
   ]
  },
  {
   "cell_type": "code",
   "execution_count": null,
   "metadata": {},
   "outputs": [],
   "source": [
    "# Cargar datos\n",
    "\n",
    "datos= qza_to_phyloseq(features = \"table.qza\",\n",
    "  taxonomy =   \"classification.qza\",\n",
    "  tree = \"rooted_tree.qza\",\n",
    "  metadata = \"sample-metadata.tsv\")"
   ]
  },
  {
   "cell_type": "markdown",
   "metadata": {},
   "source": [
    "Extraemos cada uno de los archivos de datos para implementarlos en las funciones de microeco."
   ]
  },
  {
   "cell_type": "code",
   "execution_count": null,
   "metadata": {},
   "outputs": [],
   "source": [
    "otu_table = as.data.frame(datos@otu_table)\n",
    "metadatos = data.frame(datos@sam_data)\n",
    "arbol = datos@phy_tree\n",
    "taxonomia = data.frame(datos@tax_table)"
   ]
  },
  {
   "cell_type": "markdown",
   "metadata": {},
   "source": [
    "Utilizando la función `microtable$new` se puede generar un nuevo conjunto de datos con los archivos cargados. La diferencia principal radica en que este objeto sí es apto para ser utilizado con las demás funciones de la librería."
   ]
  },
  {
   "cell_type": "code",
   "execution_count": null,
   "metadata": {},
   "outputs": [],
   "source": [
    "# Archivo de datos microtable (microeco)\n",
    "dataset <-\n",
    "  microtable$new(\n",
    "    otu_table = otu_table,\n",
    "    sample_table = metadatos,\n",
    "    phylo_tree = arbol,\n",
    "    tax_table = taxonomia"
   ]
  },
  {
   "cell_type": "markdown",
   "metadata": {},
   "source": [
    "## 4. Rarefacción\n",
    "\n",
    "Un término común en el análisis de datos de microbiomas es el de *rarefacción*, este implica un proceso de muestreo aleatorio sobre las unidades contenidas en los OTUS en el cual se debe definir un valor para realizar el muestreo y estandarizar las unidades. Usualmente el valor seleccionado es el de la muestra que contiene la menor cantidad de secuencias. Para verificar el rango de secuencias de los OTUS se utiliza la primera línea de código, la cual indica que la muestra con el menor número de secuencias contiene 1067, por este motivo se ejecuta la rarefacción fijando este valor y utilizando la función `rarefy_samples`. Al ser un muestreo aleatorio se debe fijar una semilla para poder replicar los resultados."
   ]
  },
  {
   "cell_type": "code",
   "execution_count": null,
   "metadata": {},
   "outputs": [],
   "source": [
    "# Fijamos una semilla para replicar los resultados\n",
    "\n",
    "set.seed(1)"
   ]
  },
  {
   "cell_type": "code",
   "execution_count": null,
   "metadata": {},
   "outputs": [],
   "source": [
    "# Verificación del rango de valores de los OTU\n",
    "\n",
    "dataset$sample_sums() %>% range"
   ]
  },
  {
   "cell_type": "code",
   "execution_count": null,
   "metadata": {},
   "outputs": [],
   "source": [
    "# Rarefacción\n",
    "\n",
    "dataset$rarefy_samples(sample.size = 1067)"
   ]
  },
  {
   "cell_type": "markdown",
   "metadata": {},
   "source": [
    "> **Nota:** La aplicación de la técnica de rarefacción ha sido custionada a lo largo de los años en el estudio de microbiomas. Para comprender más a profundidad sobre esta discusión se recomienda la siguiente lectura: https://journals.plos.org/ploscompbiol/article?id=10.1371/journal.pcbi.1003531"
   ]
  },
  {
   "cell_type": "markdown",
   "metadata": {},
   "source": [
    "## 4. Cálculo de abundancia relativa\n",
    "\n",
    "Una de las características más importantes de los análisis de microbiomas es identificar las principales bacterias que están presentes en las unidades de estudio, para esto se debe utilizar la abundancia relativa, la cual indica la presencia en una escala de 0 a 1 de cada bacteria en cada unidad de estudio.\n",
    "La siguiente función permite calcular la abundancia en los distintos niveles de la filogenia. Esta abundancia se podrá acceder en `dataset$taxa_abund`. Agregando otro `$` después de `taxa_abund` se puede accesar a la abundancia en diversos niveles taxonómicos como se puede ver en la segunda línea de código."
   ]
  },
  {
   "cell_type": "code",
   "execution_count": null,
   "metadata": {},
   "outputs": [],
   "source": [
    "# Cálculo de abundancia\n",
    "\n",
    "dataset$cal_abund()"
   ]
  },
  {
   "cell_type": "code",
   "execution_count": null,
   "metadata": {},
   "outputs": [],
   "source": [
    "# Acceso a los datos\n",
    "# Se utiliza [1:2,1:2] para mostrar las 2 primeras ranas y bacterias\n",
    "\n",
    "dataset$taxa_abund$Family[1:2,1:2]"
   ]
  },
  {
   "cell_type": "markdown",
   "metadata": {},
   "source": [
    "## 5. Funciones de manipulación de datos\n",
    "\n",
    "### 5.1 Agrupación de taxonomía\n",
    "\n",
    "En tutoriales anteriores los OTUS se podían agrupar en diversos niveles de la filogenia, sin embargo, había que utilizar diversas librerías para lograr esto. La librería *microtable* permite segregar los OTUS mediante la función `merge_taxa`, esto hará que la información contenida dentro de la tabla de OTUS se ajuste según el nivel de taxonomía (taxa) deseado. Por ejemplo: Kingdom, Phylum, Class, Order, Family o Genus"
   ]
  },
  {
   "cell_type": "code",
   "execution_count": null,
   "metadata": {},
   "outputs": [],
   "source": [
    "gen = dataset$merge_taxa(taxa = \"Genus\")\n",
    "gen"
   ]
  },
  {
   "cell_type": "markdown",
   "metadata": {},
   "source": [
    "Recuerde que la cantidad de OTUS al estar agrupada se reduce con respecto a los presentes en dataset."
   ]
  },
  {
   "cell_type": "markdown",
   "metadata": {},
   "source": [
    "### 5.2 Clonación y modificación de datos\n",
    "\n",
    "En ocasiones se necesitan realizar transformaciones dentro de un archivo de datos, como la que se hizo cuando se creó el objeto gen, sin embargo, siempre es importante contar con el archivo de datos original para mantener un orden a la hora de programar.\n",
    "Para esto *microeco* implementa la función clone. En el siguiente ejemplo primero se clona el set de datos y después se filtra por una columna de los metadatos, mientras que en el segundo ejemplo se filtra por una bacteria en específico del conjunto de datos de taxonomía."
   ]
  }
 ],
 "metadata": {
  "language_info": {
   "name": "python"
  }
 },
 "nbformat": 4,
 "nbformat_minor": 2
}
