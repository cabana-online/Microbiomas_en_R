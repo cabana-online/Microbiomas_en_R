{
 "cells": [
  {
   "cell_type": "markdown",
   "metadata": {},
   "source": [
    "# Análisis de Microbiomas en R\n",
    "\n",
    "Este tutorial ofrece una visión integral de las principales funciones de la librería [microeco](https://github.com/ChiLiubio/microeco). Este paquete de R está diseñado para asistir al usuario en el análisis de datos de microbiomas utilizando un rango amplio de metodologías que facilitan la experiencia del análisis.  \n",
    "\n",
    "A lo largo del tutorial, aprenderá a cargar datos en R, manipularlos y normalizarlos, calcular abundancias relativas, realizar análisis descriptivos basados en dichas abundancias, llevar a cabo análisis de diversidad (índices alfa y beta) y representar los resultados de forma gráfica."
   ]
  },
  {
   "cell_type": "markdown",
   "metadata": {},
   "source": [
    "### Configuración"
   ]
  },
  {
   "cell_type": "code",
   "execution_count": null,
   "metadata": {},
   "outputs": [],
   "source": [
    "# Descargar archivo r2u \n",
    "download.file(\"https://github.com/eddelbuettel/r2u/raw/master/inst/scripts/add_cranapt_jammy.sh\",\n",
    "              \"add_cranapt_jammy.sh\")\n",
    "Sys.chmod(\"add_cranapt_jammy.sh\", \"0755\")\n",
    "system(\"./add_cranapt_jammy.sh\")\n",
    "bspm::enable()\n",
    "options(bspm.version.check=FALSE)\n",
    "system(\"rm add_cranapt_jammy.sh\")"
   ]
  },
  {
   "cell_type": "code",
   "execution_count": null,
   "metadata": {},
   "outputs": [],
   "source": [
    "# Función shell_call\n",
    "shell_call <- function(command, ...) {\n",
    "  result <- system(command, intern = TRUE, ...)\n",
    "  cat(paste0(result, collapse = \"\\n\"))\n",
    "}"
   ]
  },
  {
   "cell_type": "markdown",
   "metadata": {},
   "source": [
    "> **Recuerde**: Esta configuración solo es necesaria en Google Colab. NO usar en R o Rstudio."
   ]
  },
  {
   "cell_type": "markdown",
   "metadata": {},
   "source": [
    "## 1. Instalación de paquetes \n",
    "\n",
    "Antes de proceder con la instalación, es importante señalar que, al igual que muchas otras librerías de R, **microeco** es un paquete que se compone por diversas dependencias. Estas dependencias no son más que otras librerías de R que deben instalarse previamente para poder utilizar microeco de una forma adecuada.\n",
    "\n",
    "El comando `install.packages(\"BiocManager\")` en R se utiliza para instalar el paquete [BiocManager](https://www.bioconductor.org/install/) desde CRAN. Este paquete es una herramienta esencial para trabajar con paquetes del proyecto [Bioconductor](https://www.bioconductor.org/), que proporciona herramientas bioinformáticas para el análisis y comprensión de datos biológicos. Bioconductor es un repositorio especializado en herramientas bioinformáticas y estadísticas diseñadas para el análisis de datos genómicos, transcriptómicos, proteómicos, y más."
   ]
  },
  {
   "cell_type": "code",
   "execution_count": null,
   "metadata": {},
   "outputs": [],
   "source": [
    "# Instalar BiocManager\n",
    "\n",
    "install.packages(\"BiocManager\")"
   ]
  },
  {
   "cell_type": "code",
   "execution_count": null,
   "metadata": {},
   "outputs": [],
   "source": [
    "# Instalar paquetes con BiocManager\n",
    "\n",
    "BiocManager::install(\"ggtree\")\n",
    "BiocManager::install(\"metagenomeSeq\")\n",
    "BiocManager::install(\"ALDEx2\")\n",
    "BiocManager::install(\"ANCOMBC\")\n",
    "install.packages(\"file2meco\", repos = BiocManager::repositories())\n",
    "install.packages(\"MicrobiomeStat\", repos = BiocManager::repositories())\n",
    "install.packages(\"WGCNA\", repos = BiocManager::repositories())\n",
    "install.packages(\"remotes\")\n",
    "install.packages(\"devtools\")\n",
    "install.packages(\"picante\")\n",
    "install.packages(\"ggpubr\")"
   ]
  },
  {
   "cell_type": "code",
   "execution_count": null,
   "metadata": {},
   "outputs": [],
   "source": [
    "# Instalar paquetes\n",
    "\n",
    "install.packages(\"file2meco\", repos = BiocManager::repositories())\n",
    "install.packages(\"MicrobiomeStat\", repos = BiocManager::repositories())\n",
    "install.packages(\"WGCNA\", repos = BiocManager::repositories())\n",
    "install.packages(\"remotes\")\n",
    "install.packages(\"devtools\")\n",
    "remotes::install_github(\"jbisanz/qiime2R\")"
   ]
  },
  {
   "cell_type": "markdown",
   "metadata": {},
   "source": [
    "> **Nota:** Es común que las librerías de R sufran actualizaciones constantemente, por lo tanto, a la hora accesar esta guía podrían existir cambios que no estén contemplados en la misma. Se recomienda visitar la siguiente página en caso de que ocurra algún inconveniente https://chiliubio.github.io/microeco_tutorial/ así como https://github.com/ChiLiubio/microeco para la instalación de la librería.\n",
    "\n",
    "Finalmente se realiza la instalación del paquete *microeco*"
   ]
  },
  {
   "cell_type": "code",
   "execution_count": null,
   "metadata": {},
   "outputs": [],
   "source": [
    "# Instalar microeco paquetes directamente desde un repositorio de GitHub\n",
    "\n",
    "devtools::install_github(\"ChiLiubio/microeco\")"
   ]
  },
  {
   "cell_type": "markdown",
   "metadata": {},
   "source": [
    "Una vez descargados los paquetes o librerías, iniciaremos las librerías utilizando la función `library()`"
   ]
  },
  {
   "cell_type": "code",
   "execution_count": null,
   "metadata": {},
   "outputs": [],
   "source": [
    "# Cargar librerías\n",
    "\n",
    "library(microeco)\n",
    "library(qiime2R)\n",
    "library(ggplot2)\n",
    "library(magrittr)\n",
    "library(RColorBrewer)\n",
    "library(ggalluvial)\n",
    "library(picante)"
   ]
  },
  {
   "cell_type": "markdown",
   "metadata": {},
   "source": [
    "## 2. Descargar datos"
   ]
  },
  {
   "cell_type": "markdown",
   "metadata": {},
   "source": [
    "Los datos utilizados en este tutorial se encuentra en un repositorio en Zenodo: https://zenodo.org/records/13972776.\n",
    "\n",
    "Para descargarlos, utilizaremos la función de R `download.file()`"
   ]
  },
  {
   "cell_type": "code",
   "execution_count": null,
   "metadata": {},
   "outputs": [],
   "source": [
    "urls <- c(\n",
    "  \"https://zenodo.org/records/13972776/files/classification.qza\",\n",
    "  \"https://zenodo.org/records/13972776/files/sample-metadata.tsv\",\n",
    "  \"https://zenodo.org/records/13972776/files/table.qza\",\n",
    "  \"https://zenodo.org/records/13972776/files/rooted_tree.qza\"\n",
    ")\n",
    "\n",
    "# Nombrar archivos\n",
    "destfiles <- c(\"classification.qza\", \"sample-metadata.tsv\", \"table.qza\", \"rooted_tree.qza\")\n",
    "\n",
    "# Descargar los archivos\n",
    "for (i in seq_along(urls)) {\n",
    "  download.file(url = urls[i], destfile = destfiles[i], mode = \"wb\")\n",
    "  cat(sprintf(\"Archivo %s descargado correctamente.\\n\", destfiles[i]))\n",
    "}"
   ]
  },
  {
   "cell_type": "markdown",
   "metadata": {},
   "source": [
    "Obtendrá el siguiente resultado:\n",
    "\n",
    "![descarga](./Images/descarga.png)"
   ]
  },
  {
   "cell_type": "markdown",
   "metadata": {},
   "source": [
    "## 3. Cargar datos"
   ]
  },
  {
   "cell_type": "markdown",
   "metadata": {},
   "source": [
    "Para cargar los datos, utilizaremos una librería implementada en R para utilizar los archivos producidos por el programa [QIIME2](https://qiime2.org/). Esta librería lleva el nombre de **qiime2R** y ya fue descargada y cargada en los pasos previos. \n",
    "\n",
    "Seguidamente se debe utilizar la función `setwd()` para seleccionar el directorio donde se encuentran los archivos de datos, los cuales están disponibles en la carpeta del tutorial."
   ]
  },
  {
   "cell_type": "code",
   "execution_count": null,
   "metadata": {},
   "outputs": [],
   "source": [
    "# Seleccionar el directorio\n",
    "\n",
    "setwd(\"/content\")"
   ]
  },
  {
   "cell_type": "code",
   "execution_count": null,
   "metadata": {},
   "outputs": [],
   "source": [
    "# Cargar datos\n",
    "\n",
    "datos= qza_to_phyloseq(features = \"table.qza\",\n",
    "  taxonomy =   \"classification.qza\",\n",
    "  tree = \"rooted_tree.qza\",\n",
    "  metadata = \"sample-metadata.tsv\")"
   ]
  },
  {
   "cell_type": "markdown",
   "metadata": {},
   "source": [
    "Extraemos cada uno de los archivos de datos para implementarlos en las funciones de *microeco*."
   ]
  },
  {
   "cell_type": "code",
   "execution_count": null,
   "metadata": {},
   "outputs": [],
   "source": [
    "otu_table = as.data.frame(datos@otu_table)\n",
    "metadatos = data.frame(datos@sam_data)\n",
    "arbol = datos@phy_tree\n",
    "taxonomia = data.frame(datos@tax_table)"
   ]
  },
  {
   "cell_type": "markdown",
   "metadata": {},
   "source": [
    "Utilizando la función `microtable$new` se puede generar un nuevo conjunto de datos con los archivos cargados. La diferencia principal radica en que este objeto sí es apto para ser utilizado con las demás funciones de la librería."
   ]
  },
  {
   "cell_type": "code",
   "execution_count": null,
   "metadata": {},
   "outputs": [],
   "source": [
    "# Archivo de datos microtable (microeco)\n",
    "dataset <-\n",
    "  microtable$new(\n",
    "    otu_table = otu_table,\n",
    "    sample_table = metadatos,\n",
    "    phylo_tree = arbol,\n",
    "    tax_table = taxonomia"
   ]
  },
  {
   "cell_type": "markdown",
   "metadata": {},
   "source": [
    "## 4. Rarefacción\n",
    "\n",
    "Un término común en el análisis de datos de microbiomas es el de *rarefacción*, este implica un proceso de muestreo aleatorio sobre las unidades contenidas en los OTUS en el cual se debe definir un valor para realizar el muestreo y estandarizar las unidades. Usualmente el valor seleccionado es el de la muestra que contiene la menor cantidad de secuencias. Para verificar el rango de secuencias de los OTUS se utiliza la primera línea de código, la cual indica que la muestra con el menor número de secuencias contiene 1067, por este motivo se ejecuta la rarefacción fijando este valor y utilizando la función `rarefy_samples`. Al ser un muestreo aleatorio se debe fijar una semilla para poder replicar los resultados."
   ]
  },
  {
   "cell_type": "code",
   "execution_count": null,
   "metadata": {},
   "outputs": [],
   "source": [
    "# Fijamos una semilla para replicar los resultados\n",
    "\n",
    "set.seed(1)"
   ]
  },
  {
   "cell_type": "code",
   "execution_count": null,
   "metadata": {},
   "outputs": [],
   "source": [
    "# Verificación del rango de valores de los OTU\n",
    "\n",
    "dataset$sample_sums() %>% range"
   ]
  },
  {
   "cell_type": "code",
   "execution_count": null,
   "metadata": {},
   "outputs": [],
   "source": [
    "# Rarefacción\n",
    "\n",
    "dataset$rarefy_samples(sample.size = 1067)"
   ]
  },
  {
   "cell_type": "markdown",
   "metadata": {},
   "source": [
    "> **Nota:** La aplicación de la técnica de rarefacción ha sido custionada a lo largo de los años en el estudio de microbiomas. Para comprender más a profundidad sobre esta discusión se recomienda la siguiente lectura: https://journals.plos.org/ploscompbiol/article?id=10.1371/journal.pcbi.1003531"
   ]
  },
  {
   "cell_type": "markdown",
   "metadata": {},
   "source": [
    "## 4. Cálculo de abundancia relativa\n",
    "\n",
    "Una de las características más importantes de los análisis de microbiomas es identificar las principales bacterias que están presentes en las unidades de estudio, para esto se debe utilizar la abundancia relativa, la cual indica la presencia en una escala de 0 a 1 de cada bacteria en cada unidad de estudio.\n",
    "La siguiente función permite calcular la abundancia en los distintos niveles de la filogenia. Esta abundancia se podrá acceder en `dataset$taxa_abund`. Agregando otro `$` después de `taxa_abund` se puede accesar a la abundancia en diversos niveles taxonómicos como se puede ver en la segunda línea de código."
   ]
  },
  {
   "cell_type": "code",
   "execution_count": null,
   "metadata": {},
   "outputs": [],
   "source": [
    "# Cálculo de abundancia\n",
    "\n",
    "dataset$cal_abund()"
   ]
  },
  {
   "cell_type": "code",
   "execution_count": null,
   "metadata": {},
   "outputs": [],
   "source": [
    "# Acceso a los datos\n",
    "# Se utiliza [1:2,1:2] para mostrar las 2 primeras ranas y bacterias\n",
    "\n",
    "dataset$taxa_abund$Family[1:2,1:2]"
   ]
  },
  {
   "cell_type": "markdown",
   "metadata": {},
   "source": [
    "## 5. Funciones de manipulación de datos\n",
    "\n",
    "### 5.1 Agrupación de taxonomía\n",
    "\n",
    "En tutoriales anteriores los OTUS se podían agrupar en diversos niveles de la filogenia, sin embargo, había que utilizar diversas librerías para lograr esto. La librería *microtable* permite segregar los OTUS mediante la función `merge_taxa`, esto hará que la información contenida dentro de la tabla de OTUS se ajuste según el nivel de taxonomía (taxa) deseado. Por ejemplo: Kingdom, Phylum, Class, Order, Family o Genus"
   ]
  },
  {
   "cell_type": "code",
   "execution_count": null,
   "metadata": {},
   "outputs": [],
   "source": [
    "gen = dataset$merge_taxa(taxa = \"Genus\")\n",
    "gen"
   ]
  },
  {
   "cell_type": "markdown",
   "metadata": {},
   "source": [
    "Recuerde que la cantidad de OTUS al estar agrupada se reduce con respecto a los presentes en dataset."
   ]
  },
  {
   "cell_type": "markdown",
   "metadata": {},
   "source": [
    "### 5.2 Clonación y modificación de datos\n",
    "\n",
    "En ocasiones se necesitan realizar transformaciones dentro de un archivo de datos, como la que se hizo cuando se creó el objeto gen, sin embargo, siempre es importante contar con el archivo de datos original para mantener un orden a la hora de programar.\n",
    "\n",
    "Para esto *microeco* implementa la función clone. En el siguiente ejemplo primero se clona el set de datos y después se filtra por una columna de los metadatos, mientras que en el segundo ejemplo se filtra por una bacteria en específico del conjunto de datos de taxonomía."
   ]
  },
  {
   "cell_type": "markdown",
   "metadata": {},
   "source": [
    "#### 5.2.1 Clonación y subset por estado del desarrollo"
   ]
  },
  {
   "cell_type": "code",
   "execution_count": null,
   "metadata": {},
   "outputs": [],
   "source": [
    "#Clonamos el dataset original\n",
    "\n",
    "renacuajos = clone(dataset)"
   ]
  },
  {
   "cell_type": "code",
   "execution_count": null,
   "metadata": {},
   "outputs": [],
   "source": [
    "#Seleccionamos solo los renacuajos de los metadatos\n",
    "\n",
    "renacuajos$sample_table <- subset(renacuajos$sample_table, life_stage == \"tadpole\")"
   ]
  },
  {
   "cell_type": "code",
   "execution_count": null,
   "metadata": {},
   "outputs": [],
   "source": [
    "#Modificamos todos los otros archivos para que solo contengan información de los renacuajos\n",
    "renacuajos$tidy_dataset()"
   ]
  },
  {
   "cell_type": "markdown",
   "metadata": {},
   "source": [
    "#### 5.2.2 Clonación y subset por bacterias del filo Proteobacteria"
   ]
  },
  {
   "cell_type": "code",
   "execution_count": null,
   "metadata": {},
   "outputs": [],
   "source": [
    "#Clonamos el dataset original\n",
    "#También se puede filtrar por bacteria\n",
    "\n",
    "proteo = clone(dataset)"
   ]
  },
  {
   "cell_type": "code",
   "execution_count": null,
   "metadata": {},
   "outputs": [],
   "source": [
    "#Filtramos por proteobacterias\n",
    "\n",
    "proteo$tax_table <- subset(proteo$tax_table, Phylum == \"Proteobacteria\")"
   ]
  },
  {
   "cell_type": "code",
   "execution_count": null,
   "metadata": {},
   "outputs": [],
   "source": [
    "#Modificamos todos los otros archivos para que solo contengan información de proteobacterias\n",
    "\n",
    "proteo$tidy_dataset()"
   ]
  },
  {
   "cell_type": "markdown",
   "metadata": {},
   "source": [
    "> **Nota importante:** Tenga presente que al modificar la tabla de OTUS o el árbol de la filogenia, las estimaciones de diversidad y abundancia deben realizarse nuevamente. Esto se debe a que los valores con los cuales se estimó la diversidad en dataset no serán los mismos cuando los OTUS o la filogenia se modifican, como en el caso de proteo. Considerando lo anterior debe utilizarse `proteo$cal_albund()` y las demás funciones para volver a estimar los índices de diversidad."
   ]
  },
  {
   "cell_type": "markdown",
   "metadata": {},
   "source": [
    "### 5.3 Filtrar por abundancia relativa\n",
    "\n",
    "Es común que los datos de secuenciación contengan múltiples bacterias que están subrepresentadas en la unidad estudio. A la hora de realizar análisis estadísticos podría ser necesario seleccionar aquellas que presenten una mayor abundancia con respecto al resto de bacterias, para esto se utiliza la función `$filter_taxa` donde se debe de ajustar el límite de abundancia relativa deseado, en ese caso se filtran o eliminan los OTUS que tienen abundancias menores al 0.1%"
   ]
  },
  {
   "cell_type": "code",
   "execution_count": null,
   "metadata": {},
   "outputs": [],
   "source": [
    "#Clonamos el set de datos\n",
    "\n",
    "dataset_filter <- clone(dataset)"
   ]
  },
  {
   "cell_type": "code",
   "execution_count": null,
   "metadata": {},
   "outputs": [],
   "source": [
    "#Ajustamos el límite de abundancia relativa\n",
    "\n",
    "dataset_filter$filter_taxa(rel_abund = 0.001)"
   ]
  },
  {
   "cell_type": "code",
   "execution_count": null,
   "metadata": {},
   "outputs": [],
   "source": [
    "#Adaptamos los demás archivos al cambio\n",
    "\n",
    "dataset_filter$tidy_dataset()"
   ]
  },
  {
   "cell_type": "markdown",
   "metadata": {},
   "source": [
    "## 6. Análisis descriptivos a partir de la abundancia relativa\n",
    "\n",
    "Uno de los aspectos más importantes del análisis de datos son los gráficos. Independientemente del campo de estudio, en la mayoría de los casos en los que se cuenta con datos, su presentación usualmente se realiza mediante gráficos de barras, diagramas de puntos, entre otros. Para este caso específico, los gráficos de abundancia relativa, boxplots y mapas de calor son los más comunes a la hora de representar la composición bacteriana. En esta sección se aborda la creación de estos gráficos utilizando *microeco*."
   ]
  },
  {
   "cell_type": "markdown",
   "metadata": {},
   "source": [
    "### 6.1 Objeto para la creación de gráficos\n",
    "\n",
    "Un paso fundamental para crear gráficos de una forma sencilla implica la creación de un objeto apto para la interpretación y ajuste de las características de los gráficos, para ello, se utiliza la función `trans_abund$new`. Esta función, además de modificar la estructura inicial, requiere dos parámetros. El primero, denominado `taxrank`, tiene como función seleccionar el nivel deseado en la taxonomía. Por último, se puede ajustar el número de “taxa” `ntaxa`, que determina cuántos taxa se van a desplegar en los gráficos por orden de abundancia."
   ]
  },
  {
   "cell_type": "code",
   "execution_count": null,
   "metadata": {},
   "outputs": [],
   "source": [
    "# Visualización  a nivel de Phylum\n",
    "\n",
    "t1 <- trans_abund$new(dataset = dataset, taxrank = \"Phylum\", ntaxa = 8)"
   ]
  },
  {
   "cell_type": "markdown",
   "metadata": {},
   "source": [
    "### 6.2 Gráfico de abundancia relativa por unidad de estudio\n",
    "\n",
    "Posterior a la creación del objeto t1 se debe utilizar la función `plot_bar` para poder graficar la abundancia relativa de cada sujeto. Otras características de la función son el ajuste de parámetros como `facet` con el fin de agrupar a los individuos según la columna deseada de los metadatos, así como el color en el que se deben desplegar las bacterias que se categorizaron como “otro”, esto mediante el parámetro `others_color`. Finalmente se pueden realizar otras modificaciones como el ajuste de la leyenda mediante `xtext_keep`, entre otros ajustes de formato disponibles."
   ]
  },
  {
   "cell_type": "code",
   "execution_count": null,
   "metadata": {},
   "outputs": [],
   "source": [
    "t1$plot_bar( facet = \"life_stage\",others_color = \"grey\",xtext_keep = F,legend_text_italic = F)"
   ]
  },
  {
   "cell_type": "markdown",
   "metadata": {},
   "source": [
    "Obtendrá el siguiente resultado: \n",
    "\n",
    "![barplot](./Images/barplot.png)"
   ]
  },
  {
   "cell_type": "markdown",
   "metadata": {},
   "source": [
    "Así como el gráfico de barras convencional, existen otras formas de presentar la misma información, donde nuevamente se observa que los renacuajos presentan una tendencia hacia una composición poco definida a nivel de filo, con respecto a las ranas juvenile y adultas."
   ]
  },
  {
   "cell_type": "code",
   "execution_count": null,
   "metadata": {},
   "outputs": [],
   "source": [
    "t1$plot_bar(bar_type = \"notfull\", use_alluvium = TRUE, xtext_angle = 30, xtext_size = 8, color_values = RColorBrewer::brewer.pal(8, \"Set2\"))"
   ]
  },
  {
   "cell_type": "markdown",
   "metadata": {},
   "source": [
    "Obtendrá el siguiente resultado:\n",
    "\n",
    "![barplot](./Images/alluvium.png)"
   ]
  },
  {
   "cell_type": "markdown",
   "metadata": {},
   "source": [
    "### 6.3 Gráfico de abundancia relativa por grupo de estudio\n",
    "\n",
    "Aunque presentar la información por individuo es importante, en ciertos casos puede resultar más práctico resumirla según el grupo de estudio. Para lograr esto, se puede realizar una ligera modificación en el objeto original t1 mediante el parámetro `groupmean`. Esto permite obtener el promedio por grupo basándose en alguna de las columnas disponibles en los metadatos."
   ]
  },
  {
   "cell_type": "code",
   "execution_count": null,
   "metadata": {},
   "outputs": [],
   "source": [
    "t2 = trans_abund$new(dataset = dataset, taxrank = \"Phylum\", ntaxa = 10, groupmean = \"life_stage\")\n",
    "t2$plot_bar(others_color = \"grey70\", legend_text_italic = FALSE)"
   ]
  },
  {
   "cell_type": "markdown",
   "metadata": {},
   "source": [
    "Obtendrá el siguiente resultado:\n",
    "\n",
    "![barplot](./Images/phyllum.png)"
   ]
  },
  {
   "cell_type": "markdown",
   "metadata": {},
   "source": [
    "### 6.4 Boxplot de abundancia\n",
    "\n",
    "Para este ejemplo en vez de utilizar el nivel Phylum para presentar la abundancia relativa, se modifica el parámetro `tax_rank` para poder visualizar a nivel de Clase. Además, se mantienen los 4 taxa más abundantes en el gráfico mediante `ntaxa`."
   ]
  },
  {
   "cell_type": "code",
   "execution_count": null,
   "metadata": {},
   "outputs": [],
   "source": [
    "# Visualización a nivel de clase\n",
    "\n",
    "t2 = trans_abund$new(dataset = dataset, taxrank = \"Class\", ntaxa =4)\n",
    "t2$plot_box(group = \"life_stage\")"
   ]
  },
  {
   "cell_type": "markdown",
   "metadata": {},
   "source": [
    "Obtendrá el siguiente resultado:\n",
    "\n",
    "![barplot](./Images/boxplot.png)"
   ]
  },
  {
   "cell_type": "markdown",
   "metadata": {},
   "source": [
    "### 6.5 Mapa de calor\n",
    "\n",
    "Los mapas de calor son una forma útil para visualizar patrones en grandes cantidades de datos, en este caso se seleccionan los 40 taxa más abundantes a nivel de Orden y se despliega la información según los 3 estados del desarrollo de cada rana."
   ]
  },
  {
   "cell_type": "code",
   "execution_count": null,
   "metadata": {},
   "outputs": [],
   "source": [
    "# Visualización a nivel de Orden\n",
    "\n",
    "t1 <- trans_abund$new(dataset = dataset, taxrank = \"Order\", ntaxa = 40)\n",
    "t1$plot_heatmap(facet = \"life_stage\", xtext_keep = FALSE, withmargin = FALSE)"
   ]
  },
  {
   "cell_type": "markdown",
   "metadata": {},
   "source": [
    "Obtendrá el siguiente resultado:\n",
    "\n",
    "![barplot](./Images/heatmap.png)"
   ]
  },
  {
   "cell_type": "markdown",
   "metadata": {},
   "source": [
    "Como conclusión del gráfico anterior, se puede extraer que, por ejemplo, las Fusobacteriales presentaron abundancias bajas en las ranas adulto y juvenile, sin embargo, en los renacuajos esta proporción fue mayor."
   ]
  },
  {
   "cell_type": "markdown",
   "metadata": {},
   "source": [
    "### 6.6 Gráficos de Pie \n",
    "\n",
    "La última visualización de la abundancia relativa para esta guía se implementa mediante el uso de gráficos de dona, en este caso a nivel de Clase. El parámetro `add_level` de la función `plot_pie` permite añadir estos porcentajes al gráfico."
   ]
  },
  {
   "cell_type": "code",
   "execution_count": null,
   "metadata": {},
   "outputs": [],
   "source": [
    "#Visualización a nivel de Clase\n",
    "\n",
    "t1 <- trans_abund$new(dataset = dataset, taxrank = \"Class\", ntaxa = 5, groupmean = \"life_stage\")"
   ]
  },
  {
   "cell_type": "code",
   "execution_count": null,
   "metadata": {},
   "outputs": [],
   "source": [
    "t1$plot_pie(facet_nrow = 1, add_label = TRUE)"
   ]
  },
  {
   "cell_type": "markdown",
   "metadata": {},
   "source": [
    "Obtendrá el siguiente resultado:\n",
    "\n",
    "![barplot](./Images/piechart.png)"
   ]
  },
  {
   "cell_type": "markdown",
   "metadata": {},
   "source": [
    "## 7. Análisis de diversidad\n",
    "\n",
    "En el contexto del análisis de la composición bacteriana, se han creado distintas técnicas para cuantificar y analizar la variabilidad de especies bacterianas presentes en una unidad de estudio específica, estas son conocidas como índices de diversidad. La finalidad de esta cuantificación es servir como una herramienta que permita a los investigadores extraer conclusiones acerca de los datos y formular hipótesis sobre los posibles factores que podrían influir en la composición bacteriana.\n",
    "\n",
    "\n",
    "### 7.1 Diversidad alfa\n",
    "\n",
    "Los índices más sencillos de analizar son los de la diversidad alfa, ya que estos se componen únicamente de 1 métrica por unidad de estudio. Existen múltiples índices para representar esta diversidad y la función `$cal_alphadiv` permite estimar cada uno de estos. Utilizamos PD = T dentro de la función para incluir la estimación del índice de faith."
   ]
  },
  {
   "cell_type": "code",
   "execution_count": null,
   "metadata": {},
   "outputs": [],
   "source": [
    "dataset$cal_alphadiv(PD = T)"
   ]
  },
  {
   "cell_type": "markdown",
   "metadata": {},
   "source": [
    "El acceso a los índices de diversidad se realiza mediante dataset$alpha_diversity. En el código se utiliza la función head() para mostrar los índices de las primeras ranas del dataset"
   ]
  },
  {
   "cell_type": "code",
   "execution_count": null,
   "metadata": {},
   "outputs": [],
   "source": [
    "head(dataset$alpha_diversity)"
   ]
  },
  {
   "cell_type": "markdown",
   "metadata": {},
   "source": [
    "Obtendrá el siguiente resultado:\n",
    "\n",
    "En las columnas observará los índices y en las filas las muestras\n",
    "\n",
    "![barplot](./Images/indices.png)"
   ]
  },
  {
   "cell_type": "markdown",
   "metadata": {},
   "source": [
    "\n",
    "#### 7.1.1 Análisis de la diversidad Alfa\n",
    "\n",
    "##### 7.1.1.1 Pruebas de hipótesis\n",
    "\n",
    "Es común que en el contexto de investigación se plantee estudiar la presencia de diferencias estadísticas entre grupos de estudio, y para esto se han desarrollado diversos métodos con el fin de comparar las distribuciones de los datos y estar a favor o en contra de una hipótesis planteada.\n",
    "El contenido de este documento no pretende profundizar en el tema de pruebas de hipótesis y se recomienda que el lector indague sobre su correcta ejecución. Por otro lado, para comprender el análisis de la diversidad alfa se plantea el siguiente ejemplo:\n",
    "Se conoce que podemos calcular la diversidad alfa de cada rana utilizando métricas como el índice de *Shannon*, sin embargo, con el fin de probar si existen diferencias estadísticamente significativas entre los estados del desarrollo, debemos plantear una **hipótesis nula (H0)** y una **alternativa (H1)**.\n",
    "\n",
    "Donde:\n",
    "\n",
    "- **H0:** No existen diferencias en el índice de Shannon según los estados de adulto, juvenile y renacuajo.\n",
    "\n",
    "- **H1:** Existen diferencias en el índice de Shannon en almenos un par de estados (adulto-juvenile-renacuajo).\n",
    "\n",
    "Para contrastar esta prueba de hipótesis al contar con 3 grupos se debe de utilizar la prueba *Kruskall Wallis*, en caso de contar con 2 grupos se utilizaría una prueba de *Wilcoxon* y dependiendo del caso se podría considerar utilizar el análisis de variancia **(ANOVA)**."
   ]
  },
  {
   "cell_type": "code",
   "execution_count": null,
   "metadata": {},
   "outputs": [],
   "source": [
    "# Forma usual de probar la hipótesis\n",
    "\n",
    "kruskal.test(dataset$alpha_diversity$Shannon,g = dataset$sample_table$life_stage)"
   ]
  },
  {
   "cell_type": "code",
   "execution_count": null,
   "metadata": {},
   "outputs": [],
   "source": [
    "# Opción rápida mediante trans_alpha estableciendo el grupo de los metadatos\n",
    "\n",
    "t1 <- trans_alpha$new(dataset = dataset, group = \"life_stage\")\n",
    "t1$cal_diff()\n",
    "t1$res_diff\n",
    "\n",
    "# Note que para el índice de shannon el \"P.unadj\" es el mismo"
   ]
  },
  {
   "cell_type": "markdown",
   "metadata": {},
   "source": [
    "> **Nota:** En caso de existir diferencias, estas se observarían cuando el P.adj es menor que 0.05, sin embargo, se concluye que no hay suficiente evidencia estadística como para rechazar la hipótesis nula que no existen diferencias en el índice de Shannon entre los estados de adulto, juvenile y renacuajo."
   ]
  },
  {
   "cell_type": "markdown",
   "metadata": {},
   "source": [
    "#### 7.1.1.2 Gráficos de los índices de diversidad alfa\n",
    "\n",
    "Con el fin de presentar los hallazgos encontrados en la sección anterior, la librería ofrece gráficos para el índice de diversidad según los grupos de estudio, para esto debemos haber utilizado la función `cal_diff()` en nuestro set de datos para así incorporar la función `plot_alpha`. Ajustando el parámetro measure se puede seleccionar el índice de diversidad de interés y el parámetro shape ajusta la forma de los puntos de cada grupo."
   ]
  },
  {
   "cell_type": "code",
   "execution_count": null,
   "metadata": {},
   "outputs": [],
   "source": [
    "# Gráfico del índice de shannon por etapa de la vida\n",
    "\n",
    "t1$plot_alpha(measure = \"Shannon\", shape = \"life_stage\")"
   ]
  },
  {
   "cell_type": "markdown",
   "metadata": {},
   "source": [
    "Obtendrá el siguiente resultado:\n",
    "\n",
    "\n",
    "![barplot](./Images/alpha.png)"
   ]
  },
  {
   "cell_type": "markdown",
   "metadata": {},
   "source": [
    "> **Nota:** Para modificar el \"ns\" que aparece en la esquina izquierda del gráfico consulte el link proporcionado al inicio de la guía. Considerando lo propuesto en esta sección, se tienen las herramientas necesarias para analizar la diversidad alfa mediante pruebas de hipótesis y reportar las diferencias utilizando visualizaciones como los boxplots."
   ]
  },
  {
   "cell_type": "markdown",
   "metadata": {},
   "source": [
    "### 7.2 Diversidad beta\n",
    "\n",
    "El proceso de estimación de la diversidad beta es muy similar, en este caso se debe nombrar al archivo de datos y posteriormente utilizar `$cal_betadiv`"
   ]
  },
  {
   "cell_type": "code",
   "execution_count": null,
   "metadata": {},
   "outputs": [],
   "source": [
    "dataset$cal_betadiv()"
   ]
  },
  {
   "cell_type": "code",
   "execution_count": null,
   "metadata": {},
   "outputs": [],
   "source": [
    "head(data.frame(dataset$beta_diversity))[1:3,1:3]"
   ]
  },
  {
   "cell_type": "markdown",
   "metadata": {},
   "source": [
    "> **Nota:** Para cálculo de estos índices microeco se beneficia de otras librerías como *vegan* o *physeq*, es importante que el usuario haga uso de la guía teniendo en cuenta que la estimación de estas métricas se realiza utilizando diversas fórmulas y procesos matemáticos los cuales eventualmente podrían ajustarse según el tipo de datos y la cantidad con la que se cuente. Por default la función utiliza el método bray y jaccard como métricas de diversidad beta. A pesar de que no aparezca explícitamente en la función, esta se está alimentando del siguiente parámetro method = c(\"bray\",\"jaccard\"). Consulte la ayuda de la función vegdist para ver las opciones de method que se pueden utilizar."
   ]
  },
  {
   "cell_type": "markdown",
   "metadata": {},
   "source": [
    "#### 7.2.1 Análisis de la diversidad beta\n",
    "\n",
    "Hasta ahora hemos calculado índices de diversidad alfa y beta, sin embargo, la medida para representar la diversidad beta no es un valor que pertenezca a una unidad, como lo fue en el caso de la diversidad alfa. En este caso se utiliza la matriz de OTUS para calcular distancias entre cada par de unidades del estudio, donde el objetivo es representar la variabilidad o disimilitud entre cada par de muestras con la finalidad de utilizar herramientas de aprendizaje automático que ayuden a obtener visualizaciones o pruebas estadísticas como PERMANOVA (ver https://uw.pressbooks.pub/appliedmultivariatestatistics/chapter/permanova/) que permitan obtener conclusiones a partir de los datos.\n",
    "Como en casos anteriores, primero se debe crear un objeto que permita interpretar la diversidad beta, para esto se utiliza la función trans_beta$new. Se debe ajustar el grupo presente en los metadatos, así como el parámetro measure que debe de coincidir con el method implementado en la función $cal_betadiv()(anteriormente se utilizó bray y jaccard como method)."
   ]
  },
  {
   "cell_type": "code",
   "execution_count": null,
   "metadata": {},
   "outputs": [],
   "source": [
    "# Objeto de interpretación de diversidad, measure debe ser bray o jaccard\n",
    "t1 <- trans_beta$new(dataset = dataset, group = \"life_stage\", measure = \"bray\")"
   ]
  },
  {
   "cell_type": "markdown",
   "metadata": {},
   "source": [
    "##### 7.2.1.1 Representación gráfica de la diversidad beta\n",
    "\n",
    "Para representar gráficamente la diversidad beta existen diversos métodos como el PCoA, PCA o el escalamiento no métrico multidimensional (NMDS), la función `$cal_ordination` permite seleccionar el tipo de visualización según las necesidades del usuario mediante el parámetro ordination."
   ]
  },
  {
   "cell_type": "code",
   "execution_count": null,
   "metadata": {},
   "outputs": [],
   "source": [
    "# Establecemos una semilla para que los resultados coincidan\n",
    "\n",
    "set.seed(1)"
   ]
  },
  {
   "cell_type": "code",
   "execution_count": null,
   "metadata": {},
   "outputs": [],
   "source": [
    "# Estimación de coordanadas para representar la beta diversidad\n",
    "\n",
    "t1$cal_ordination(method = \"NMDS\")"
   ]
  },
  {
   "cell_type": "code",
   "execution_count": null,
   "metadata": {},
   "outputs": [],
   "source": [
    "# Gráfico de NMDS\n",
    "\n",
    "t1$plot_ordination(plot_color = \"life_stage\",plot_shape = \"life_stage\", plot_type = c(\"point\", \"ellipse\"))"
   ]
  },
  {
   "cell_type": "markdown",
   "metadata": {},
   "source": [
    "Obtendrá el siguiente resultado:\n",
    "\n",
    "![barplot](./Images/beta.png)"
   ]
  },
  {
   "cell_type": "markdown",
   "metadata": {},
   "source": [
    "> **Nota:** Al utilizar `cal_ordination` la función da un aviso de que no hay suficientes datos, dando indicios de que la representación gráfica no es fiel. Se recomienda visitar https://uw.pressbooks.pub/appliedmultivariatestatistics/chapter/nmds/ para comprender el paso a paso de esta técnica.\n",
    "\n",
    "> **¡Tener en cuenta!:** Las distancias de Bray-curtis son calculadas a partir de la matriz de OTUS que se puede accesar utilizando la función `dataset$otu_table`. Note que si se modifica esta matriz porque se creó un subset de los datos o porque estos se agruparon según un nivel taxonómico específico, la distancia entre las muestras cambia y con ella las visualizaciones de la diversidad beta."
   ]
  },
  {
   "cell_type": "code",
   "execution_count": null,
   "metadata": {},
   "outputs": [],
   "source": [
    "set.seed(1)\n",
    "prueba = clone(dataset)\n",
    "filo = prueba$merge_taxa(taxa = \"Phylum\") # Se agrupa por filo\n",
    "filo$cal_betadiv() # Se calcula la beta diversidad\n",
    "\n",
    "t1$plot_ordination(plot_color = \"life_stage\",plot_shape = \"life_stage\", plot_type = c(\"point\", \"ellipse\"))"
   ]
  },
  {
   "cell_type": "markdown",
   "metadata": {},
   "source": [
    "Obtendrá el siguiente resultado:\n",
    "\n",
    "![barplot](./Images/beta2.png)"
   ]
  }
 ],
 "metadata": {
  "language_info": {
   "name": "python"
  }
 },
 "nbformat": 4,
 "nbformat_minor": 2
}
