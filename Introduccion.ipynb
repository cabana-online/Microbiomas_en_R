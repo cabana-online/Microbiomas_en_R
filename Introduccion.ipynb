{
 "cells": [
  {
   "cell_type": "markdown",
   "metadata": {},
   "source": [
    "# Introducción a Google Colaboratory\n",
    "\n",
    "¡Bienvenido al curso! Hay algunas instrucciones muy importantes que debe seguir si desea guardar una copia de este módulo en su cuenta de Google Drive:\n",
    "\n",
    "1. Haga clic en \"Archivo\" en la esquina superior izquierda y seleccione \"Guardar una copia en Drive\"\n",
    "\n",
    "2. Haga clic en el nombre del notebook en la esquina superior izquierda y reemplace por el nombre que desee.\n",
    "\n",
    "Sus cambios no se guardarán si no realiza este paso.\n"
   ]
  },
  {
   "cell_type": "markdown",
   "metadata": {},
   "source": [
    "## Para iniciar\n",
    "\n",
    "Google Colab usa Python 3 de forma predeterminada. Como este tutorial está en R, cambiaremos el tipo de entorno a R. Para hacerlo:\n",
    "\n",
    "    1. Haga clic en la pestaña \"Conectar\", que se encuentra en la parte superior derecha, como se muestra a continuación.\n",
    "\n",
    "    2. Se abrirá un cuadro de diálogo. Seleccione \"Change runtime type\" (Cambiar tipo de entorno).\n",
    "\n",
    "    3. Aparecerá otro cuadro de diálogo. En la opción \"Runtime type\", verá seleccionado Python 3. Haga clic en el triángulo desplegable y seleccione R.\n",
    "\n",
    "    4. Presione \"Guardar\".\n",
    "\n",
    "Ahora su entorno en Google Colab está configurado para usar R.\n",
    "\n",
    "> **Recuerde:** Si no realiza este cambio, no podrá ejecutar los pasos del tutorial.\n"
   ]
  },
  {
   "cell_type": "code",
   "execution_count": null,
   "metadata": {},
   "outputs": [],
   "source": [
    "Por favor, escriba: `print(\"Sí, he completado el paso 1\")` en el bloque de código a continuación, luego ejecútelo haciendo clic en el icono \"triángulo\"/\"Reproducir\" en ese bloque."
   ]
  },
  {
   "cell_type": "code",
   "execution_count": null,
   "metadata": {},
   "outputs": [],
   "source": [
    "# Bloque"
   ]
  },
  {
   "cell_type": "markdown",
   "metadata": {},
   "source": [
    "Obtendrá el siguiente resultado:\n",
    "\n",
    "![print](./Images/print.png)"
   ]
  },
  {
   "cell_type": "markdown",
   "metadata": {},
   "source": [
    "Por favor, escriba: `print(\"Sí, he completado el paso 2\"`)` en el bloque de código a continuación, luego ejecútelo haciendo clic en el icono \"triángulo\"/\"Reproducir\" en ese bloque."
   ]
  },
  {
   "cell_type": "code",
   "execution_count": null,
   "metadata": {},
   "outputs": [],
   "source": [
    "# Bloque"
   ]
  },
  {
   "cell_type": "markdown",
   "metadata": {},
   "source": [
    "Obtendrá el siguiente resultado:\n",
    "\n",
    "![print](./Images/print2.png)"
   ]
  },
  {
   "cell_type": "markdown",
   "metadata": {},
   "source": [
    "## Configuración\n",
    "\n",
    "Con el fin de istalar rápidamente diferentes dependencias de R en Colab, utilizaremos [r2u: CRAN as Ubuntu Binaries](https://github.com/eddelbuettel/r2u). Este paquete configura el entorno para instalar paquetes de R utilizando el sistema de gestión de paquetes de Ubuntu.\n",
    "\n",
    "> **Recuerde**: Esto solo es necesario en Google Colab. NO usar en R o Rstudio."
   ]
  },
  {
   "cell_type": "code",
   "execution_count": null,
   "metadata": {},
   "outputs": [],
   "source": [
    "# Descargar archivo r2u \n",
    "download.file(\"https://github.com/eddelbuettel/r2u/raw/master/inst/scripts/add_cranapt_jammy.sh\",\n",
    "              \"add_cranapt_jammy.sh\")\n",
    "Sys.chmod(\"add_cranapt_jammy.sh\", \"0755\")\n",
    "system(\"./add_cranapt_jammy.sh\")\n",
    "bspm::enable()\n",
    "options(bspm.version.check=FALSE)\n",
    "system(\"rm add_cranapt_jammy.sh\")"
   ]
  },
  {
   "cell_type": "markdown",
   "metadata": {},
   "source": [
    "La función en R llamada `shell_call`, que sirve para ejecutar comandos del sistema operativo (por ejemplo, comandos de shell o terminal) desde R y mostrar su salida de una forma más legible."
   ]
  },
  {
   "cell_type": "code",
   "execution_count": null,
   "metadata": {},
   "outputs": [],
   "source": [
    "# Función shell_call\n",
    "shell_call <- function(command, ...) {\n",
    "  result <- system(command, intern = TRUE, ...)\n",
    "  cat(paste0(result, collapse = \"\\n\"))\n",
    "}"
   ]
  },
  {
   "cell_type": "markdown",
   "metadata": {},
   "source": [
    "## ¿Tengo espacio de almacenamiento para siempre?\n",
    "\n",
    "No, el espacio lo tiene durante 12 horas al día\n",
    "\n",
    "El notebook se guardará automáticamente si ha realizado los dos primeros pasos. Luego puede repetir todo el trabajo haciendo clic en las celdas o ejecutando todo.\n",
    "\n",
    "¡Los datos se pueden descargar a su computadora local!\n",
    "\n",
    "También puede vincular su cuenta de Google Drive para mover archivos allí."
   ]
  },
  {
   "cell_type": "markdown",
   "metadata": {},
   "source": [
    "### Ya puede iniciar el tutorial! "
   ]
  }
 ],
 "metadata": {
  "language_info": {
   "name": "python"
  }
 },
 "nbformat": 4,
 "nbformat_minor": 2
}
